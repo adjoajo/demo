{
    "cells": [
        {
            "cell_type": "markdown",
            "metadata": {},
            "source": "## DESCRIPTION \nI dont know what my data really is"
        },
        {
            "cell_type": "code",
            "execution_count": 2,
            "metadata": {},
            "outputs": [
                {
                    "name": "stdout",
                    "output_type": "stream",
                    "text": "+--------------------+\n|    #Files to remove|\n+--------------------+\n|/Sculpteo/Alumide...|\n|/Sculpteo/Ceramic...|\n|/Sculpteo/Ceramic...|\n|/Sculpteo/Ceramic...|\n|/Sculpteo/Ceramic...|\n+--------------------+\nonly showing top 5 rows\n\n"
                },
                {
                    "data": {
                        "text/plain": "configurationName = os_2ef8c10b95cc4994a490e68ef0116069_configs\ncos = com.ibm.ibmos2spark.CloudObjectStorage@961dd2f1\nspark = org.apache.spark.sql.SparkSession@97477308\ndfData1 = [#Files to remove: string]\n"
                    },
                    "metadata": {},
                    "output_type": "display_data"
                },
                {
                    "data": {
                        "text/plain": "getCredentials: ()scala.collection.mutable.HashMap[String,String]\n"
                    },
                    "metadata": {},
                    "output_type": "display_data"
                },
                {
                    "data": {
                        "text/plain": "[#Files to remove: string]"
                    },
                    "execution_count": 2,
                    "metadata": {},
                    "output_type": "execute_result"
                }
            ],
            "source": "// The code was removed by Watson Studio for sharing."
        },
        {
            "cell_type": "code",
            "execution_count": null,
            "metadata": {},
            "outputs": [],
            "source": ""
        }
    ],
    "metadata": {
        "kernelspec": {
            "display_name": "Scala 2.11 with Spark",
            "language": "scala",
            "name": "scala"
        },
        "language_info": {
            "codemirror_mode": "text/x-scala",
            "file_extension": ".scala",
            "mimetype": "text/x-scala",
            "name": "scala",
            "pygments_lexer": "scala",
            "version": "2.11.12"
        }
    },
    "nbformat": 4,
    "nbformat_minor": 1
}